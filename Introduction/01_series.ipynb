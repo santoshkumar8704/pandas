{
 "cells": [
  {
   "cell_type": "code",
   "execution_count": 1,
   "metadata": {},
   "outputs": [],
   "source": [
    "import numpy as np \n",
    "import pandas as pd"
   ]
  },
  {
   "cell_type": "markdown",
   "metadata": {},
   "source": [
    "# creating a series with list"
   ]
  },
  {
   "cell_type": "code",
   "execution_count": 12,
   "metadata": {},
   "outputs": [],
   "source": [
    "subjects = [\"dsa\",\"dbms\",\"oops\",\"cn\",\"os\"]\n",
    "marks = [99,98,95,99,97]"
   ]
  },
  {
   "cell_type": "code",
   "execution_count": 6,
   "metadata": {},
   "outputs": [],
   "source": [
    "# subjects = pd.Series(subjects)\n",
    "# subjects"
   ]
  },
  {
   "cell_type": "markdown",
   "metadata": {},
   "source": [
    "# series with custom index"
   ]
  },
  {
   "cell_type": "code",
   "execution_count": 13,
   "metadata": {},
   "outputs": [
    {
     "data": {
      "text/plain": [
       "dsa     99\n",
       "dbms    98\n",
       "oops    95\n",
       "cn      99\n",
       "os      97\n",
       "dtype: int64"
      ]
     },
     "execution_count": 13,
     "metadata": {},
     "output_type": "execute_result"
    }
   ],
   "source": [
    "pd.Series(marks,index=subjects)"
   ]
  },
  {
   "cell_type": "code",
   "execution_count": 15,
   "metadata": {},
   "outputs": [
    {
     "data": {
      "text/plain": [
       "dsa     99\n",
       "dbms    98\n",
       "oops    95\n",
       "cn      99\n",
       "os      97\n",
       "Name: ramya's marks, dtype: int64"
      ]
     },
     "execution_count": 15,
     "metadata": {},
     "output_type": "execute_result"
    }
   ],
   "source": [
    "ramyas_marks = pd.Series(marks,index=subjects,name=\"ramya's marks\")\n",
    "ramyas_marks"
   ]
  },
  {
   "cell_type": "markdown",
   "metadata": {},
   "source": [
    "# serires with a dictonary"
   ]
  },
  {
   "cell_type": "code",
   "execution_count": 17,
   "metadata": {},
   "outputs": [
    {
     "data": {
      "text/plain": [
       "dsa     99\n",
       "dbms    98\n",
       "oops    95\n",
       "cn      99\n",
       "os      97\n",
       "Name: ramyasmarksdictseries, dtype: int64"
      ]
     },
     "execution_count": 17,
     "metadata": {},
     "output_type": "execute_result"
    }
   ],
   "source": [
    "ramyas_marks_dict = {\"dsa\" :99,\n",
    "\"dbms\" :  98,\n",
    "\"oops\" :   95,\n",
    "\"cn\" :    99,\n",
    "\"os\" :     97}\n",
    "ramyas_marks_dict_series = pd.Series(ramyas_marks_dict,name=\"ramyasmarksdictseries\")\n",
    "ramyas_marks_dict_series"
   ]
  }
 ],
 "metadata": {
  "kernelspec": {
   "display_name": "Python 3",
   "language": "python",
   "name": "python3"
  },
  "language_info": {
   "codemirror_mode": {
    "name": "ipython",
    "version": 3
   },
   "file_extension": ".py",
   "mimetype": "text/x-python",
   "name": "python",
   "nbconvert_exporter": "python",
   "pygments_lexer": "ipython3",
   "version": "3.10.7"
  },
  "orig_nbformat": 4
 },
 "nbformat": 4,
 "nbformat_minor": 2
}
